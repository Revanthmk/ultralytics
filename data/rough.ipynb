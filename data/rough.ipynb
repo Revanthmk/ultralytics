{
 "cells": [
  {
   "cell_type": "code",
   "execution_count": null,
   "metadata": {},
   "outputs": [],
   "source": [
    "import cv2\n",
    "import numpy as np\n",
    "import glob\n",
    "\n",
    "\n",
    "def shift_image_and_labels(img_path, txt_path, shift_ratio=0.4):\n",
    "    img = cv2.imread(img_path)\n",
    "    height, width, _ = img.shape\n",
    "\n",
    "    shift_pixels = int(height * shift_ratio)\n",
    "\n",
    "    new_img = np.zeros_like(img)\n",
    "    new_img[:shift_pixels, :] = img[-shift_pixels:, :]\n",
    "    new_img[shift_pixels:, :] = img[:-shift_pixels, :]\n",
    "\n",
    "    with open(txt_path, 'r') as f:\n",
    "        lines = f.readlines()\n",
    "\n",
    "    new_labels = []\n",
    "    for line in lines:\n",
    "        class_id, x_center, y_center, w, h = map(float, line.split())\n",
    "        \n",
    "        y_center += shift_ratio\n",
    "        if y_center > 1:\n",
    "            y_center -= 1\n",
    "        \n",
    "        new_labels.append(f\"{class_id} {x_center} {y_center} {w} {h}\\n\")\n",
    "\n",
    "    cv2.imwrite(img_path.replace('.jpg', '_shifted.jpg'), new_img)\n",
    "\n",
    "    with open(txt_path.replace('.txt', '_shifted.txt'), 'w') as f:\n",
    "        f.writelines(new_labels)\n",
    "\n",
    "    print(f\"Image and labels shifted and saved as {img_path.replace('.jpg', '_shifted.jpg')} and {txt_path.replace('.txt', '_shifted.txt')}\")\n"
   ]
  },
  {
   "cell_type": "code",
   "execution_count": 72,
   "metadata": {},
   "outputs": [],
   "source": [
    "a = 10"
   ]
  },
  {
   "cell_type": "code",
   "execution_count": null,
   "metadata": {},
   "outputs": [],
   "source": []
  },
  {
   "cell_type": "code",
   "execution_count": null,
   "metadata": {},
   "outputs": [],
   "source": []
  },
  {
   "cell_type": "code",
   "execution_count": null,
   "metadata": {},
   "outputs": [],
   "source": []
  },
  {
   "cell_type": "code",
   "execution_count": null,
   "metadata": {},
   "outputs": [],
   "source": []
  },
  {
   "cell_type": "code",
   "execution_count": null,
   "metadata": {},
   "outputs": [],
   "source": []
  },
  {
   "cell_type": "code",
   "execution_count": null,
   "metadata": {},
   "outputs": [],
   "source": []
  },
  {
   "cell_type": "code",
   "execution_count": null,
   "metadata": {},
   "outputs": [],
   "source": []
  },
  {
   "cell_type": "code",
   "execution_count": null,
   "metadata": {},
   "outputs": [],
   "source": []
  },
  {
   "cell_type": "code",
   "execution_count": null,
   "metadata": {},
   "outputs": [],
   "source": []
  },
  {
   "cell_type": "code",
   "execution_count": null,
   "metadata": {},
   "outputs": [],
   "source": []
  },
  {
   "cell_type": "code",
   "execution_count": null,
   "metadata": {},
   "outputs": [],
   "source": []
  },
  {
   "cell_type": "code",
   "execution_count": null,
   "metadata": {},
   "outputs": [],
   "source": []
  },
  {
   "cell_type": "code",
   "execution_count": null,
   "metadata": {},
   "outputs": [],
   "source": []
  },
  {
   "cell_type": "code",
   "execution_count": null,
   "metadata": {},
   "outputs": [],
   "source": []
  },
  {
   "cell_type": "code",
   "execution_count": null,
   "metadata": {},
   "outputs": [],
   "source": []
  }
 ],
 "metadata": {
  "kernelspec": {
   "display_name": "Python 3 (ipykernel)",
   "language": "python",
   "name": "python3"
  },
  "language_info": {
   "codemirror_mode": {
    "name": "ipython",
    "version": 3
   },
   "file_extension": ".py",
   "mimetype": "text/x-python",
   "name": "python",
   "nbconvert_exporter": "python",
   "pygments_lexer": "ipython3",
   "version": "3.10.12"
  }
 },
 "nbformat": 4,
 "nbformat_minor": 2
}
