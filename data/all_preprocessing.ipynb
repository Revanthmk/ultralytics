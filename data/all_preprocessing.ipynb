{
 "cells": [
  {
   "cell_type": "code",
   "execution_count": 61,
   "metadata": {},
   "outputs": [],
   "source": [
    "from helper_functions import plot_traces_classification_analysis\n",
    "from preprocessing_transforms import ZeroTimeCorrection, HighPassFilter, LowPassFilter, Iad, RemoveBackground\n",
    "\n",
    "from glob import glob\n",
    "import re\n",
    "import segyio\n",
    "import numpy as np\n",
    "import matplotlib.pyplot as plt\n",
    "import matplotlib.patches as patches\n",
    "from PIL import Image"
   ]
  },
  {
   "cell_type": "markdown",
   "metadata": {},
   "source": [
    "# Display raw tagged data"
   ]
  },
  {
   "cell_type": "code",
   "execution_count": null,
   "metadata": {},
   "outputs": [],
   "source": []
  },
  {
   "cell_type": "markdown",
   "metadata": {},
   "source": [
    "# Create test.txt and train.txt"
   ]
  },
  {
   "cell_type": "code",
   "execution_count": 4,
   "metadata": {},
   "outputs": [],
   "source": [
    "all_txt = glob('obj/*txt')"
   ]
  },
  {
   "cell_type": "code",
   "execution_count": 5,
   "metadata": {},
   "outputs": [
    {
     "data": {
      "text/plain": [
       "229"
      ]
     },
     "execution_count": 5,
     "metadata": {},
     "output_type": "execute_result"
    }
   ],
   "source": [
    "len(all_txt)"
   ]
  },
  {
   "cell_type": "code",
   "execution_count": 6,
   "metadata": {},
   "outputs": [],
   "source": [
    "file_train = open('train.txt', 'w')\n",
    "file_test = open('test.txt', 'w')\n",
    "\n",
    "for each_file in glob('obj/*txt'):\n",
    "    if 'Tunnel' in each_file: # Validation images are from 17th Aug\n",
    "        file_test.write(\"data/\" + each_file.split('.txt')[0] + \".png\" + \"\\n\")\n",
    "    else:\n",
    "        file_train.write(\"data/\" + each_file.split('.txt')[0] + \".png\" + \"\\n\")\n",
    "\n",
    "file_train.close()\n",
    "file_test.close()"
   ]
  },
  {
   "cell_type": "markdown",
   "metadata": {},
   "source": [
    "# Remove 0 tagged images"
   ]
  },
  {
   "cell_type": "code",
   "execution_count": 9,
   "metadata": {},
   "outputs": [],
   "source": [
    "\n"
   ]
  },
  {
   "cell_type": "markdown",
   "metadata": {},
   "source": [
    "# Create final images used to train the model using tagged data"
   ]
  },
  {
   "cell_type": "code",
   "execution_count": 62,
   "metadata": {},
   "outputs": [],
   "source": [
    "all_txt = glob('tagged_data_rev/*txt')\n",
    "all_sgy = glob('sgy_data/*.sgy')"
   ]
  },
  {
   "cell_type": "code",
   "execution_count": 63,
   "metadata": {},
   "outputs": [
    {
     "data": {
      "text/plain": [
       "55"
      ]
     },
     "execution_count": 63,
     "metadata": {},
     "output_type": "execute_result"
    }
   ],
   "source": [
    "len(all_txt)"
   ]
  },
  {
   "cell_type": "code",
   "execution_count": 64,
   "metadata": {},
   "outputs": [],
   "source": [
    "sgy_list_from_text = []\n",
    "\n",
    "for each_text in all_txt:\n",
    "    sgy_name = '_'.join(each_text.split('_')[:-4])+'.sgy'\n",
    "    if sgy_name not in sgy_list_from_text:\n",
    "        sgy_list_from_text.append(sgy_name)\n",
    "    \n",
    "# Running this, we get sgy_list_from_text which contains all the list of sgy files which are used by the tagged txt files"
   ]
  },
  {
   "cell_type": "code",
   "execution_count": 65,
   "metadata": {},
   "outputs": [
    {
     "data": {
      "text/plain": [
       "['tagged_data_rev/TunnelNew_64_Random.sgy',\n",
       " 'tagged_data_rev/TunnelNew_64_S_Scan_1.sgy',\n",
       " 'tagged_data_rev/TunnelNew_64_2.sgy',\n",
       " 'tagged_data_rev/TunnelNew_64_S_Scan.sgy',\n",
       " 'tagged_data_rev/TunnelNew_64_StraightPasses.sgy',\n",
       " 'tagged_data_rev/Tunnel_64_Xscan.sgy',\n",
       " 'tagged_data_rev/TunnelNew_64_1.sgy',\n",
       " 'tagged_data_rev/TunnelNew_64_3.sgy',\n",
       " 'tagged_data_rev/TunnelNew_64_4.sgy']"
      ]
     },
     "execution_count": 65,
     "metadata": {},
     "output_type": "execute_result"
    }
   ],
   "source": [
    "# Verify this manually - Done\n",
    "\n",
    "sgy_list_from_text"
   ]
  },
  {
   "cell_type": "code",
   "execution_count": 66,
   "metadata": {},
   "outputs": [],
   "source": [
    "pattern = r'([^/]+)_(?:\\d+_\\d+)__cubic\\.txt'\n",
    "\n",
    "each_split = []\n",
    "\n",
    "for each_sgy in sgy_list_from_text:\n",
    "    sgy_name = each_sgy.split('/')[-1][:-4]\n",
    "\n",
    "    sgy_files = []\n",
    "    for each_txt in all_txt:\n",
    "        match = re.search(pattern, each_txt)\n",
    "        if match:\n",
    "            if sgy_name == match.group(1):\n",
    "                sgy_files.append(each_txt)\n",
    "\n",
    "\n",
    "    splits_per_file = []\n",
    "    for each_file in sgy_files:\n",
    "        splits_per_file.append([each_file, each_file.split('_')[-4], each_file.split('_')[-3]])\n",
    "    each_split.append(splits_per_file)\n",
    "\n",
    "# So after running this, we will have \n",
    "# sgy_list_from_text which contains all unique sgy files and \n",
    "# each_split containing which splits were done for that specific sgy file to get the png images"
   ]
  },
  {
   "cell_type": "code",
   "execution_count": 67,
   "metadata": {},
   "outputs": [
    {
     "name": "stdout",
     "output_type": "stream",
     "text": [
      "tagged_data_rev/TunnelNew_64_Random.sgy 9 \n",
      " [['tagged_data_rev/TunnelNew_64_Random_15470_16563__cubic.txt', '15470', '16563'], ['tagged_data_rev/TunnelNew_64_Random_17221_19235__cubic.txt', '17221', '19235'], ['tagged_data_rev/TunnelNew_64_Random_5836_6470__cubic.txt', '5836', '6470'], ['tagged_data_rev/TunnelNew_64_Random_11954_13067__cubic.txt', '11954', '13067'], ['tagged_data_rev/TunnelNew_64_Random_1954_3294__cubic.txt', '1954', '3294'], ['tagged_data_rev/TunnelNew_64_Random_9357_10113__cubic.txt', '9357', '10113'], ['tagged_data_rev/TunnelNew_64_Random_373_1451__cubic.txt', '373', '1451'], ['tagged_data_rev/TunnelNew_64_Random_7038_7892__cubic.txt', '7038', '7892'], ['tagged_data_rev/TunnelNew_64_Random_3773_5360__cubic.txt', '3773', '5360']] [['tagged_data_rev/TunnelNew_64_Random_15470_16563__cubic.txt', '15470', '16563'], ['tagged_data_rev/TunnelNew_64_Random_17221_19235__cubic.txt', '17221', '19235'], ['tagged_data_rev/TunnelNew_64_Random_5836_6470__cubic.txt', '5836', '6470'], ['tagged_data_rev/TunnelNew_64_Random_11954_13067__cubic.txt', '11954', '13067'], ['tagged_data_rev/TunnelNew_64_Random_1954_3294__cubic.txt', '1954', '3294'], ['tagged_data_rev/TunnelNew_64_Random_9357_10113__cubic.txt', '9357', '10113'], ['tagged_data_rev/TunnelNew_64_Random_373_1451__cubic.txt', '373', '1451'], ['tagged_data_rev/TunnelNew_64_Random_7038_7892__cubic.txt', '7038', '7892'], ['tagged_data_rev/TunnelNew_64_Random_3773_5360__cubic.txt', '3773', '5360']] \n",
      "\n",
      "tagged_data_rev/TunnelNew_64_S_Scan_1.sgy 11 \n",
      " [['tagged_data_rev/TunnelNew_64_S_Scan_1_11904_13039__cubic.txt', '11904', '13039'], ['tagged_data_rev/TunnelNew_64_S_Scan_1_16388_18250__cubic.txt', '16388', '18250'], ['tagged_data_rev/TunnelNew_64_S_Scan_1_3190_3922__cubic.txt', '3190', '3922'], ['tagged_data_rev/TunnelNew_64_S_Scan_1_0_863__cubic.txt', '0', '863'], ['tagged_data_rev/TunnelNew_64_S_Scan_1_1464_2486__cubic.txt', '1464', '2486'], ['tagged_data_rev/TunnelNew_64_S_Scan_1_8933_10085__cubic.txt', '8933', '10085'], ['tagged_data_rev/TunnelNew_64_S_Scan_1_14865_15799__cubic.txt', '14865', '15799'], ['tagged_data_rev/TunnelNew_64_S_Scan_1_4841_5564__cubic.txt', '4841', '5564'], ['tagged_data_rev/TunnelNew_64_S_Scan_1_10607_11456__cubic.txt', '10607', '11456'], ['tagged_data_rev/TunnelNew_64_S_Scan_1_7311_8557__cubic.txt', '7311', '8557'], ['tagged_data_rev/TunnelNew_64_S_Scan_1_13470_14417__cubic.txt', '13470', '14417']] [['tagged_data_rev/TunnelNew_64_S_Scan_1_11904_13039__cubic.txt', '11904', '13039'], ['tagged_data_rev/TunnelNew_64_S_Scan_1_16388_18250__cubic.txt', '16388', '18250'], ['tagged_data_rev/TunnelNew_64_S_Scan_1_3190_3922__cubic.txt', '3190', '3922'], ['tagged_data_rev/TunnelNew_64_S_Scan_1_0_863__cubic.txt', '0', '863'], ['tagged_data_rev/TunnelNew_64_S_Scan_1_1464_2486__cubic.txt', '1464', '2486'], ['tagged_data_rev/TunnelNew_64_S_Scan_1_8933_10085__cubic.txt', '8933', '10085'], ['tagged_data_rev/TunnelNew_64_S_Scan_1_14865_15799__cubic.txt', '14865', '15799'], ['tagged_data_rev/TunnelNew_64_S_Scan_1_4841_5564__cubic.txt', '4841', '5564'], ['tagged_data_rev/TunnelNew_64_S_Scan_1_10607_11456__cubic.txt', '10607', '11456'], ['tagged_data_rev/TunnelNew_64_S_Scan_1_7311_8557__cubic.txt', '7311', '8557'], ['tagged_data_rev/TunnelNew_64_S_Scan_1_13470_14417__cubic.txt', '13470', '14417']] \n",
      "\n",
      "tagged_data_rev/TunnelNew_64_2.sgy 4 \n",
      " [['tagged_data_rev/TunnelNew_64_2_27_2560__cubic.txt', '27', '2560'], ['tagged_data_rev/TunnelNew_64_2_5181_6995__cubic.txt', '5181', '6995'], ['tagged_data_rev/TunnelNew_64_2_7189_9497__cubic.txt', '7189', '9497'], ['tagged_data_rev/TunnelNew_64_2_2946_4615__cubic.txt', '2946', '4615']] [['tagged_data_rev/TunnelNew_64_2_27_2560__cubic.txt', '27', '2560'], ['tagged_data_rev/TunnelNew_64_2_5181_6995__cubic.txt', '5181', '6995'], ['tagged_data_rev/TunnelNew_64_2_7189_9497__cubic.txt', '7189', '9497'], ['tagged_data_rev/TunnelNew_64_2_2946_4615__cubic.txt', '2946', '4615']] \n",
      "\n",
      "tagged_data_rev/TunnelNew_64_S_Scan.sgy 5 \n",
      " [['tagged_data_rev/TunnelNew_64_S_Scan_4331_5057__cubic.txt', '4331', '5057'], ['tagged_data_rev/TunnelNew_64_S_Scan_203_879__cubic.txt', '203', '879'], ['tagged_data_rev/TunnelNew_64_S_Scan_12566_14269__cubic.txt', '12566', '14269'], ['tagged_data_rev/TunnelNew_64_S_Scan_10290_10886__cubic.txt', '10290', '10886'], ['tagged_data_rev/TunnelNew_64_S_Scan_5610_6142__cubic.txt', '5610', '6142']] [['tagged_data_rev/TunnelNew_64_S_Scan_4331_5057__cubic.txt', '4331', '5057'], ['tagged_data_rev/TunnelNew_64_S_Scan_203_879__cubic.txt', '203', '879'], ['tagged_data_rev/TunnelNew_64_S_Scan_12566_14269__cubic.txt', '12566', '14269'], ['tagged_data_rev/TunnelNew_64_S_Scan_10290_10886__cubic.txt', '10290', '10886'], ['tagged_data_rev/TunnelNew_64_S_Scan_5610_6142__cubic.txt', '5610', '6142']] \n",
      "\n",
      "tagged_data_rev/TunnelNew_64_StraightPasses.sgy 7 \n",
      " [['tagged_data_rev/TunnelNew_64_StraightPasses_2439_4207__cubic.txt', '2439', '4207'], ['tagged_data_rev/TunnelNew_64_StraightPasses_4827_6192__cubic.txt', '4827', '6192'], ['tagged_data_rev/TunnelNew_64_StraightPasses_6644_7683__cubic.txt', '6644', '7683'], ['tagged_data_rev/TunnelNew_64_StraightPasses_8978_9877__cubic.txt', '8978', '9877'], ['tagged_data_rev/TunnelNew_64_StraightPasses_364_1973__cubic.txt', '364', '1973'], ['tagged_data_rev/TunnelNew_64_StraightPasses_10326_11953__cubic.txt', '10326', '11953'], ['tagged_data_rev/TunnelNew_64_StraightPasses_12431_15108__cubic.txt', '12431', '15108']] [['tagged_data_rev/TunnelNew_64_StraightPasses_2439_4207__cubic.txt', '2439', '4207'], ['tagged_data_rev/TunnelNew_64_StraightPasses_4827_6192__cubic.txt', '4827', '6192'], ['tagged_data_rev/TunnelNew_64_StraightPasses_6644_7683__cubic.txt', '6644', '7683'], ['tagged_data_rev/TunnelNew_64_StraightPasses_8978_9877__cubic.txt', '8978', '9877'], ['tagged_data_rev/TunnelNew_64_StraightPasses_364_1973__cubic.txt', '364', '1973'], ['tagged_data_rev/TunnelNew_64_StraightPasses_10326_11953__cubic.txt', '10326', '11953'], ['tagged_data_rev/TunnelNew_64_StraightPasses_12431_15108__cubic.txt', '12431', '15108']] \n",
      "\n",
      "tagged_data_rev/Tunnel_64_Xscan.sgy 9 \n",
      " [['tagged_data_rev/Tunnel_64_Xscan_20380_21533__cubic.txt', '20380', '21533'], ['tagged_data_rev/Tunnel_64_Xscan_8062_9015__cubic.txt', '8062', '9015'], ['tagged_data_rev/Tunnel_64_Xscan_22074_22520__cubic.txt', '22074', '22520'], ['tagged_data_rev/Tunnel_64_Xscan_0_1579__cubic.txt', '0', '1579'], ['tagged_data_rev/Tunnel_64_Xscan_9528_10163__cubic.txt', '9528', '10163'], ['tagged_data_rev/Tunnel_64_Xscan_16970_17393__cubic.txt', '16970', '17393'], ['tagged_data_rev/Tunnel_64_Xscan_14513_14914__cubic.txt', '14513', '14914'], ['tagged_data_rev/Tunnel_64_Xscan_2233_3325__cubic.txt', '2233', '3325'], ['tagged_data_rev/Tunnel_64_Xscan_7082_7416__cubic.txt', '7082', '7416']] [['tagged_data_rev/Tunnel_64_Xscan_20380_21533__cubic.txt', '20380', '21533'], ['tagged_data_rev/Tunnel_64_Xscan_8062_9015__cubic.txt', '8062', '9015'], ['tagged_data_rev/Tunnel_64_Xscan_22074_22520__cubic.txt', '22074', '22520'], ['tagged_data_rev/Tunnel_64_Xscan_0_1579__cubic.txt', '0', '1579'], ['tagged_data_rev/Tunnel_64_Xscan_9528_10163__cubic.txt', '9528', '10163'], ['tagged_data_rev/Tunnel_64_Xscan_16970_17393__cubic.txt', '16970', '17393'], ['tagged_data_rev/Tunnel_64_Xscan_14513_14914__cubic.txt', '14513', '14914'], ['tagged_data_rev/Tunnel_64_Xscan_2233_3325__cubic.txt', '2233', '3325'], ['tagged_data_rev/Tunnel_64_Xscan_7082_7416__cubic.txt', '7082', '7416']] \n",
      "\n",
      "tagged_data_rev/TunnelNew_64_1.sgy 3 \n",
      " [['tagged_data_rev/TunnelNew_64_1_4948_8067__cubic.txt', '4948', '8067'], ['tagged_data_rev/TunnelNew_64_1_2624_4417__cubic.txt', '2624', '4417'], ['tagged_data_rev/TunnelNew_64_1_822_2448__cubic.txt', '822', '2448']] [['tagged_data_rev/TunnelNew_64_1_4948_8067__cubic.txt', '4948', '8067'], ['tagged_data_rev/TunnelNew_64_1_2624_4417__cubic.txt', '2624', '4417'], ['tagged_data_rev/TunnelNew_64_1_822_2448__cubic.txt', '822', '2448']] \n",
      "\n",
      "tagged_data_rev/TunnelNew_64_3.sgy 4 \n",
      " [['tagged_data_rev/TunnelNew_64_3_4359_5697__cubic.txt', '4359', '5697'], ['tagged_data_rev/TunnelNew_64_3_0_1726__cubic.txt', '0', '1726'], ['tagged_data_rev/TunnelNew_64_3_2581_3835__cubic.txt', '2581', '3835'], ['tagged_data_rev/TunnelNew_64_3_6363_9001__cubic.txt', '6363', '9001']] [['tagged_data_rev/TunnelNew_64_3_4359_5697__cubic.txt', '4359', '5697'], ['tagged_data_rev/TunnelNew_64_3_0_1726__cubic.txt', '0', '1726'], ['tagged_data_rev/TunnelNew_64_3_2581_3835__cubic.txt', '2581', '3835'], ['tagged_data_rev/TunnelNew_64_3_6363_9001__cubic.txt', '6363', '9001']] \n",
      "\n",
      "tagged_data_rev/TunnelNew_64_4.sgy 3 \n",
      " [['tagged_data_rev/TunnelNew_64_4_6620_7402__cubic.txt', '6620', '7402'], ['tagged_data_rev/TunnelNew_64_4_102_1950__cubic.txt', '102', '1950'], ['tagged_data_rev/TunnelNew_64_4_3963_5691__cubic.txt', '3963', '5691']] [['tagged_data_rev/TunnelNew_64_4_6620_7402__cubic.txt', '6620', '7402'], ['tagged_data_rev/TunnelNew_64_4_102_1950__cubic.txt', '102', '1950'], ['tagged_data_rev/TunnelNew_64_4_3963_5691__cubic.txt', '3963', '5691']] \n",
      "\n"
     ]
    }
   ],
   "source": [
    "# Verified this manually - Done\n",
    "\n",
    "for i, each_sgy_file in enumerate(sgy_list_from_text):\n",
    "    print(f\"{each_sgy_file} {len(each_split[i])} \\n {each_split[i]} {each_split[i]} \\n\")"
   ]
  },
  {
   "cell_type": "code",
   "execution_count": 68,
   "metadata": {},
   "outputs": [],
   "source": [
    "sgy_list_from_text_sgy_data_folder = [x.replace('tagged_data_rev', 'sgy_data') for x in sgy_list_from_text]"
   ]
  },
  {
   "cell_type": "code",
   "execution_count": 69,
   "metadata": {},
   "outputs": [],
   "source": [
    "def open_sgy_preprocess(file_name):\n",
    "    with segyio.open(file_name, mode='r+', endian='little', strict=False) as file:\n",
    "        traces_1 = []\n",
    "        for i in range(len(file.trace)):\n",
    "            traces_1.append(file.trace[i])\n",
    "        traces_1 = np.array(traces_1)\n",
    "        traces_1 = ZeroTimeCorrection(0)(traces_1, [])[0]\n",
    "        # traces_1 = RemoveBackground()(traces_1)[0]\n",
    "        # traces_1 = HighPassFilter(500)(traces_1)[0]\n",
    "        # traces_1 = LowPassFilter(50)(traces_1)[0]\n",
    "        # traces_1 = Iad('cubic', 0, 1, -0.5, 0.5)(traces_1)[0]\n",
    "    return traces_1[:, :250]"
   ]
  },
  {
   "cell_type": "code",
   "execution_count": 70,
   "metadata": {},
   "outputs": [
    {
     "data": {
      "text/plain": [
       "[['tagged_data_rev/TunnelNew_64_Random_15470_16563__cubic.txt',\n",
       "  '15470',\n",
       "  '16563'],\n",
       " ['tagged_data_rev/TunnelNew_64_Random_17221_19235__cubic.txt',\n",
       "  '17221',\n",
       "  '19235'],\n",
       " ['tagged_data_rev/TunnelNew_64_Random_5836_6470__cubic.txt', '5836', '6470'],\n",
       " ['tagged_data_rev/TunnelNew_64_Random_11954_13067__cubic.txt',\n",
       "  '11954',\n",
       "  '13067'],\n",
       " ['tagged_data_rev/TunnelNew_64_Random_1954_3294__cubic.txt', '1954', '3294'],\n",
       " ['tagged_data_rev/TunnelNew_64_Random_9357_10113__cubic.txt',\n",
       "  '9357',\n",
       "  '10113'],\n",
       " ['tagged_data_rev/TunnelNew_64_Random_373_1451__cubic.txt', '373', '1451'],\n",
       " ['tagged_data_rev/TunnelNew_64_Random_7038_7892__cubic.txt', '7038', '7892'],\n",
       " ['tagged_data_rev/TunnelNew_64_Random_3773_5360__cubic.txt', '3773', '5360']]"
      ]
     },
     "execution_count": 70,
     "metadata": {},
     "output_type": "execute_result"
    }
   ],
   "source": [
    "each_split[0]"
   ]
  },
  {
   "cell_type": "code",
   "execution_count": 71,
   "metadata": {},
   "outputs": [
    {
     "data": {
      "image/png": "[encoded data removed]",
      "text/plain": [
       "<Figure size 640x480 with 1 Axes>"
      ]
     },
     "metadata": {},
     "output_type": "display_data"
    }
   ],
   "source": [
    "# Running this will create final images and final txt files required for training the model and put it inside folder 'obj'\n",
    "\n",
    "for i in range(len(sgy_list_from_text_sgy_data_folder)):\n",
    "\n",
    "    traces = open_sgy_preprocess(sgy_list_from_text_sgy_data_folder[i])\n",
    "    # print(sgy_list_from_text_sgy_data_folder[i])\n",
    "\n",
    "    for sub_splits in each_split[i]:\n",
    "        # print(sub_splits)\n",
    "        txt_path = sub_splits[0]\n",
    "        start_trace = int(sub_splits[1])\n",
    "        end_trace = int(sub_splits[2])\n",
    "\n",
    "        with open(txt_path, 'r') as file:\n",
    "            txt_content = file.readlines()\n",
    "        \n",
    "        class_id, x_center, y_center, width, height = map(float, txt_content[0].strip().split()) # Assuming there is only 1 tunnel in each image because we are splitting it using latitudes\n",
    "        img_width, img_height = traces[start_trace:end_trace, :].shape\n",
    "        \n",
    "        x_center *= img_width\n",
    "        y_center *= img_height\n",
    "        width *= img_width\n",
    "        height *= img_height\n",
    "\n",
    "        x_center_abs = start_trace + round(x_center)\n",
    "        y_center_abs = round(y_center)\n",
    "        width = round(width)\n",
    "        height = round(height)\n",
    "\n",
    "        start_trace_final_image = np.random.randint(x_center_abs-600, x_center_abs-300) # This number should be verified, a tunnel roughly is around 200 traces # But this way wont create a new file every epoch\n",
    "\n",
    "        final_image_sgy = traces[start_trace_final_image:start_trace_final_image+1000].T # This number 1000 should be verified\n",
    "        final_img_height, final_img_width = final_image_sgy.shape\n",
    "\n",
    "        final_x_center = (x_center_abs-start_trace_final_image)/final_img_width\n",
    "        final_y_center = y_center_abs/final_img_height\n",
    "        final_width = width/final_img_width\n",
    "        final_height = height/final_img_height\n",
    "\n",
    "        plt.imshow(final_image_sgy, aspect='auto', cmap='gray')\n",
    "        plt.axis('off')\n",
    "        plt.gca().set_axis_off()\n",
    "        plt.subplots_adjust(top=1, bottom=0, right=1, left=0, hspace=0, wspace=0)\n",
    "        temp_name = txt_path.split('/')[-1][:-4]\n",
    "        png_name = f'obj/{temp_name}_{start_trace_final_image}.png'\n",
    "        plt.savefig(png_name, dpi=300, bbox_inches='tight', pad_inches=0)\n",
    "\n",
    "        final_text_path = f'obj/{temp_name}_{start_trace_final_image}.txt'\n",
    "\n",
    "        with open(final_text_path, \"w\") as file:\n",
    "            file.write(f\"0 {final_x_center} {final_y_center} {final_width} {final_height}\")\n",
    "        # print('done')\n",
    "        # print()"
   ]
  },
  {
   "cell_type": "markdown",
   "metadata": {},
   "source": [
    "# Creating final train dataset"
   ]
  },
  {
   "cell_type": "code",
   "execution_count": 73,
   "metadata": {},
   "outputs": [],
   "source": [
    "from glob import glob\n",
    "import shutil\n",
    "from sklearn.model_selection import train_test_split\n",
    "\n",
    "v4_data_path = '/home/revanth/Yolo/ultralytics/data/obj'\n",
    "\n",
    "v4_data_images = glob(v4_data_path+'/*png')\n",
    "v4_data_labels = glob(v4_data_path+'/*txt')"
   ]
  },
  {
   "cell_type": "code",
   "execution_count": 74,
   "metadata": {},
   "outputs": [],
   "source": [
    "X_train, X_test, y_train, y_test = train_test_split(v4_data_images, v4_data_labels, test_size=0.975, random_state=42)\n",
    "\n",
    "for each_file in X_train:\n",
    "    shutil.copy(each_file, '/home/revanth/Yolo/ultralytics/data/final_train_data/train/images/')\n",
    "\n",
    "for each_file in X_test:\n",
    "    shutil.copy(each_file, '/home/revanth/Yolo/ultralytics/data/final_train_data/test/images/')\n",
    "\n",
    "for each_file in y_train:\n",
    "    shutil.copy(each_file, '/home/revanth/Yolo/ultralytics/data/final_train_data/train/labels/')\n",
    "\n",
    "for each_file in y_test:\n",
    "    shutil.copy(each_file, '/home/revanth/Yolo/ultralytics/data/final_train_data/test/labels/')"
   ]
  },
  {
   "cell_type": "code",
   "execution_count": 51,
   "metadata": {},
   "outputs": [
    {
     "name": "stdout",
     "output_type": "stream",
     "text": [
      "obj/TunnelNew_64_Random_1954_3294__cubic_2112.txt\n"
     ]
    },
    {
     "data": {
      "text/plain": [
       "<matplotlib.patches.Rectangle at 0x77533bd61a80>"
      ]
     },
     "execution_count": 51,
     "metadata": {},
     "output_type": "execute_result"
    },
    {
     "data": {
      "image/png": "[encoded data removed]",
      "text/plain": [
       "<Figure size 640x480 with 1 Axes>"
      ]
     },
     "metadata": {},
     "output_type": "display_data"
    }
   ],
   "source": [
    "# Verifying the final files created for training\n",
    "txt_files = glob('obj/*.txt')\n",
    "\n",
    "num = np.random.randint(0, len(txt_files))\n",
    "\n",
    "txt_file_path = txt_files[num]\n",
    "print(txt_file_path)\n",
    "\n",
    "image_path = txt_file_path[:-3]+'png'\n",
    "image = Image.open(image_path)\n",
    "\n",
    "fig, ax = plt.subplots()\n",
    "ax.imshow(image, aspect='auto', cmap='gray')\n",
    "\n",
    "with open(txt_file_path, 'r') as file:\n",
    "    txt_content = file.readlines()\n",
    "\n",
    "class_id, x_center, y_center, width, height = map(float, txt_content[0].strip().split())\n",
    "\n",
    "img_width, img_height = image.size\n",
    "\n",
    "x_center *= img_width\n",
    "y_center *= img_height\n",
    "width *= img_width\n",
    "height *= img_height\n",
    "\n",
    "x_min = x_center - width / 2\n",
    "y_min = y_center - height / 2\n",
    "\n",
    "rect = patches.Rectangle((x_min, y_min), width, height, linewidth=1, edgecolor='r', facecolor='none')\n",
    "ax.add_patch(rect)\n",
    "# ax.axvline(x=x_center, color='r')"
   ]
  },
  {
   "cell_type": "code",
   "execution_count": 78,
   "metadata": {},
   "outputs": [
    {
     "data": {
      "image/png": "[encoded data removed]",
      "text/plain": [
       "<Figure size 640x480 with 1 Axes>"
      ]
     },
     "metadata": {},
     "output_type": "display_data"
    }
   ],
   "source": [
    "# Printing an example tagging using sgy file instead of the image\n",
    "\n",
    "sgy_file_num = 1\n",
    "split_num = 2\n",
    "\n",
    "sgy_file = sgy_list_from_text_sgy_data_folder[sgy_file_num]\n",
    "split = each_split[sgy_file_num]\n",
    "\n",
    "traces = open_sgy_preprocess(sgy_file)\n",
    "\n",
    "with open(split[split_num][0], 'r') as file:\n",
    "    txt_content = file.readlines()\n",
    "\n",
    "img_width, img_height = traces[int(split[split_num][1]):int(split[split_num][2]), :].shape\n",
    "\n",
    "fig, ax = plt.subplots()\n",
    "ax.imshow(traces[int(split[split_num][1]):int(split[split_num][2]), :].T, aspect='auto', cmap='gray')\n",
    "# ax.axis('off')\n",
    "\n",
    "for line in txt_content:\n",
    "    class_id, x_center, y_center, width, height = map(float, line.strip().split())\n",
    "\n",
    "    x_center *= img_width\n",
    "    y_center *= img_height\n",
    "    width *= img_width\n",
    "    height *= img_height\n",
    "\n",
    "    x_min = x_center - width / 2\n",
    "    y_min = y_center - height / 2\n",
    "\n",
    "    rect = patches.Rectangle((x_min, y_min), width, height, linewidth=1, edgecolor='r', facecolor='none')\n",
    "    ax.add_patch(rect)\n",
    "    ax.axvline(x=x_center, color='r')"
   ]
  },
  {
   "cell_type": "markdown",
   "metadata": {},
   "source": [
    "# Copy test images to mask_test_images"
   ]
  },
  {
   "cell_type": "code",
   "execution_count": 1,
   "metadata": {},
   "outputs": [],
   "source": [
    "with open('test.txt', 'r') as file:\n",
    "    content = file.readlines()\n",
    "\n",
    "all_test_images = [x[:-1] for x in content]"
   ]
  },
  {
   "cell_type": "code",
   "execution_count": 2,
   "metadata": {},
   "outputs": [
    {
     "data": {
      "text/plain": [
       "'data/obj/TunnelNew_64_3_6363_9001__cubic_6640.png'"
      ]
     },
     "execution_count": 2,
     "metadata": {},
     "output_type": "execute_result"
    }
   ],
   "source": [
    "all_test_images[0]"
   ]
  },
  {
   "cell_type": "code",
   "execution_count": 3,
   "metadata": {},
   "outputs": [],
   "source": [
    "source_file = 'data/obj/New_64_4_4415_6084__cubic_4724.png'\n",
    "temp_path = source_file.split('/')[-1]\n",
    "dest_file = f'mask_test_images/{temp_path}'"
   ]
  },
  {
   "cell_type": "code",
   "execution_count": 4,
   "metadata": {},
   "outputs": [
    {
     "data": {
      "text/plain": [
       "'obj/TunnelNew_64_3_6363_9001__cubic_6640.png'"
      ]
     },
     "execution_count": 4,
     "metadata": {},
     "output_type": "execute_result"
    }
   ],
   "source": [
    "all_test_images[0][5:]"
   ]
  },
  {
   "cell_type": "code",
   "execution_count": 8,
   "metadata": {},
   "outputs": [],
   "source": [
    "import shutil\n",
    "\n",
    "for each_test_image in all_test_images:\n",
    "    source_file = each_test_image[5:]\n",
    "    temp_path = source_file.split('/')[-1]\n",
    "    dest_file = f'mask_test_images/{temp_path}'\n",
    "\n",
    "    # print(f'./darknet detector test data/obj.data cfg/yolov4-custom.cfg training/yolov4-custom_best.weights data/{dest_file} -thresh 0.3')\n",
    "\n",
    "    shutil.copy(source_file, dest_file)"
   ]
  },
  {
   "cell_type": "code",
   "execution_count": null,
   "metadata": {},
   "outputs": [],
   "source": []
  },
  {
   "cell_type": "code",
   "execution_count": null,
   "metadata": {},
   "outputs": [],
   "source": []
  },
  {
   "cell_type": "code",
   "execution_count": null,
   "metadata": {},
   "outputs": [],
   "source": []
  },
  {
   "cell_type": "code",
   "execution_count": null,
   "metadata": {},
   "outputs": [],
   "source": []
  },
  {
   "cell_type": "code",
   "execution_count": null,
   "metadata": {},
   "outputs": [],
   "source": []
  },
  {
   "cell_type": "code",
   "execution_count": null,
   "metadata": {},
   "outputs": [],
   "source": []
  },
  {
   "cell_type": "code",
   "execution_count": null,
   "metadata": {},
   "outputs": [],
   "source": []
  },
  {
   "cell_type": "code",
   "execution_count": null,
   "metadata": {},
   "outputs": [],
   "source": []
  },
  {
   "cell_type": "code",
   "execution_count": null,
   "metadata": {},
   "outputs": [],
   "source": []
  },
  {
   "cell_type": "code",
   "execution_count": null,
   "metadata": {},
   "outputs": [],
   "source": []
  },
  {
   "cell_type": "code",
   "execution_count": null,
   "metadata": {},
   "outputs": [],
   "source": []
  }
 ],
 "metadata": {
  "kernelspec": {
   "display_name": "Python 3 (ipykernel)",
   "language": "python",
   "name": "python3"
  },
  "language_info": {
   "codemirror_mode": {
    "name": "ipython",
    "version": 3
   },
   "file_extension": ".py",
   "mimetype": "text/x-python",
   "name": "python",
   "nbconvert_exporter": "python",
   "pygments_lexer": "ipython3",
   "version": "3.10.12"
  }
 },
 "nbformat": 4,
 "nbformat_minor": 2
}
